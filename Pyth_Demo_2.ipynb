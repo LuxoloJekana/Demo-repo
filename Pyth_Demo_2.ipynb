{
  "nbformat": 4,
  "nbformat_minor": 0,
  "metadata": {
    "colab": {
      "provenance": [],
      "authorship_tag": "ABX9TyObXmvhNUYwQaQ5IhaeZP2g",
      "include_colab_link": true
    },
    "kernelspec": {
      "name": "python3",
      "display_name": "Python 3"
    },
    "language_info": {
      "name": "python"
    }
  },
  "cells": [
    {
      "cell_type": "markdown",
      "metadata": {
        "id": "view-in-github",
        "colab_type": "text"
      },
      "source": [
        "<a href=\"https://colab.research.google.com/github/LuxoloJekana/Demo-repo/blob/main/Pyth_Demo_2.ipynb\" target=\"_parent\"><img src=\"https://colab.research.google.com/assets/colab-badge.svg\" alt=\"Open In Colab\"/></a>"
      ]
    },
    {
      "cell_type": "code",
      "execution_count": 3,
      "metadata": {
        "colab": {
          "base_uri": "https://localhost:8080/"
        },
        "id": "KvERdOgZcQhb",
        "outputId": "f0427c33-ca1b-4639-fbbd-d53a63f3315f"
      },
      "outputs": [
        {
          "output_type": "stream",
          "name": "stdout",
          "text": [
            "Banana Apple\n",
            "Hello, Orange\n"
          ]
        }
      ],
      "source": [
        "item = 'Banana'\n",
        "Item = 'Apple'\n",
        "item_name = 'Orange'\n",
        "\n",
        "print(item ,Item)\n",
        "\n",
        "\n",
        "print('Hello, ' + item_name)\n"
      ]
    },
    {
      "cell_type": "code",
      "source": [
        "integer = 25\n",
        "word = 'text'\n",
        "isHappy = False\n",
        "naughty_list = ['Mihlali', 'Mario','Manelisi']\n",
        "\n",
        "print(integer)\n",
        "print(word)\n",
        "print(isHappy)\n",
        "print(naughty_list)\n"
      ],
      "metadata": {
        "colab": {
          "base_uri": "https://localhost:8080/"
        },
        "id": "Z6Qmlg2Bc_S8",
        "outputId": "ac172962-63f3-4c1f-b8d5-aecc1cb08ba8"
      },
      "execution_count": 4,
      "outputs": [
        {
          "output_type": "stream",
          "name": "stdout",
          "text": [
            "25\n",
            "text\n",
            "False\n",
            "['Mihlali', 'Mario', 'Manelisi']\n"
          ]
        }
      ]
    },
    {
      "cell_type": "code",
      "source": [
        "integer = 10\n",
        "string_number = '25'\n",
        "\n",
        "print(integer + int(string_number))"
      ],
      "metadata": {
        "colab": {
          "base_uri": "https://localhost:8080/"
        },
        "id": "FTlKg4VVeGF9",
        "outputId": "4383287e-f6f2-4596-8209-9d75bfd79f7e"
      },
      "execution_count": 5,
      "outputs": [
        {
          "output_type": "stream",
          "name": "stdout",
          "text": [
            "35\n"
          ]
        }
      ]
    },
    {
      "cell_type": "code",
      "source": [
        "a = 35\n",
        "b = 3\n",
        "\n",
        "addition = a + b\n",
        "subtraction = a - b\n",
        "multiplication = a * b\n",
        "divide = a/b\n",
        "power = a**b\n",
        "\n",
        "print(addition)\n",
        "print(subtraction)\n",
        "print(multiplication)\n",
        "print(divide)\n",
        "print(power)\n",
        "\n"
      ],
      "metadata": {
        "colab": {
          "base_uri": "https://localhost:8080/"
        },
        "id": "Dr8TAk1ReyRE",
        "outputId": "dd6d5c0a-795a-4f59-b4d7-dd484d7cc035"
      },
      "execution_count": 6,
      "outputs": [
        {
          "output_type": "stream",
          "name": "stdout",
          "text": [
            "38\n",
            "32\n",
            "105\n",
            "11.666666666666666\n",
            "42875\n"
          ]
        }
      ]
    },
    {
      "cell_type": "code",
      "source": [
        "age = 24\n",
        "isHappy = True\n",
        "\n",
        "if age > 21:\n",
        "  print('You are old')\n",
        "elif age == 18:\n",
        "    print('You are getting old')\n",
        "else:\n",
        "      print('You are still young')\n",
        "\n",
        "\n",
        "if isHappy:\n",
        "  print('You are happy')\n",
        "\n",
        "else:\n",
        " print('You are not happy')"
      ],
      "metadata": {
        "colab": {
          "base_uri": "https://localhost:8080/"
        },
        "id": "QQdxlFOjgydP",
        "outputId": "0be09926-510e-46f4-a547-cdb549cdb4d8"
      },
      "execution_count": 13,
      "outputs": [
        {
          "output_type": "stream",
          "name": "stdout",
          "text": [
            "You are old\n",
            "You are happy\n"
          ]
        }
      ]
    },
    {
      "cell_type": "code",
      "source": [
        "for i in range(3):\n",
        "  print('Hello', i + 1)\n",
        "\n",
        "\n",
        "print(range(3))"
      ],
      "metadata": {
        "colab": {
          "base_uri": "https://localhost:8080/"
        },
        "id": "Nb1WnxGlj-ch",
        "outputId": "7d94569a-5d8f-4df8-a28f-53d61d627d44"
      },
      "execution_count": 16,
      "outputs": [
        {
          "output_type": "stream",
          "name": "stdout",
          "text": [
            "Hello 1\n",
            "Hello 2\n",
            "Hello 3\n",
            "range(0, 3)\n"
          ]
        }
      ]
    },
    {
      "cell_type": "code",
      "source": [
        "name_list = ['Mihlali','Milan','Mahle']\n",
        "\n",
        "for name in name_list:\n",
        "  print(name)"
      ],
      "metadata": {
        "colab": {
          "base_uri": "https://localhost:8080/"
        },
        "id": "InniSG6HmRDg",
        "outputId": "b6623162-c206-4d25-c89f-18b45cb9b3fe"
      },
      "execution_count": 17,
      "outputs": [
        {
          "output_type": "stream",
          "name": "stdout",
          "text": [
            "Mihlali\n",
            "Milan\n",
            "Mahle\n"
          ]
        }
      ]
    },
    {
      "cell_type": "code",
      "source": [
        "i = 0\n",
        "while i < 5:\n",
        "  i = i + 1\n",
        "  print(i)\n",
        ""
      ],
      "metadata": {
        "colab": {
          "base_uri": "https://localhost:8080/"
        },
        "id": "CYn8pcx-msKO",
        "outputId": "ef01550d-f05c-446b-d092-f98339a0801e"
      },
      "execution_count": 18,
      "outputs": [
        {
          "output_type": "stream",
          "name": "stdout",
          "text": [
            "1\n",
            "2\n",
            "3\n",
            "4\n",
            "5\n"
          ]
        }
      ]
    },
    {
      "cell_type": "code",
      "source": [
        "while True:\n",
        "  user_input = input('Enter something >>>  ')\n",
        "  if user_input == '0':\n",
        "    print('We are done here.')\n",
        "  break"
      ],
      "metadata": {
        "colab": {
          "base_uri": "https://localhost:8080/"
        },
        "id": "gI04GMhXnP5X",
        "outputId": "d5de6098-5f81-40fe-a6b9-95abd0bb0e68"
      },
      "execution_count": 24,
      "outputs": [
        {
          "output_type": "stream",
          "name": "stdout",
          "text": [
            "Enter something >>>  0\n",
            "We are done here.\n"
          ]
        }
      ]
    },
    {
      "cell_type": "code",
      "source": [
        "def say_hello(name):\n",
        "  print('Hey there', name)\n",
        "\n",
        "say_hello('Luxolo')\n",
        "\n",
        "say_hello('Lj')\n",
        "say_hello('Mjita')\n",
        "\n"
      ],
      "metadata": {
        "colab": {
          "base_uri": "https://localhost:8080/"
        },
        "id": "-dZ40DW7oXko",
        "outputId": "288eb3d2-d395-457d-e509-ff3f56eaae24"
      },
      "execution_count": 2,
      "outputs": [
        {
          "output_type": "stream",
          "name": "stdout",
          "text": [
            "Hey there Luxolo\n",
            "Hey there Lj\n",
            "Hey there Mjita\n"
          ]
        }
      ]
    },
    {
      "cell_type": "code",
      "source": [
        "def get_internet():\n",
        "  pass\n",
        "\n",
        "def run_game():\n",
        "  pass\n",
        "\n",
        "\n"
      ],
      "metadata": {
        "id": "jG5zHMkJpff-"
      },
      "execution_count": 3,
      "outputs": []
    },
    {
      "cell_type": "code",
      "source": [
        "number = input('Please provide a number >>>  ' )\n",
        "\n",
        "try:\n",
        "\n",
        "  print(21 + int(number))\n",
        "\n",
        "except:\n",
        "\n",
        "  print('That is not a valid number!')"
      ],
      "metadata": {
        "colab": {
          "base_uri": "https://localhost:8080/"
        },
        "id": "Bb98ukNjr9T1",
        "outputId": "7541b18d-1351-4ba4-c440-18a311ea1b08"
      },
      "execution_count": 5,
      "outputs": [
        {
          "output_type": "stream",
          "name": "stdout",
          "text": [
            "Please provide a number >>>  23\n",
            "44\n"
          ]
        }
      ]
    },
    {
      "cell_type": "markdown",
      "source": [],
      "metadata": {
        "id": "gKPYrtTjoEmV"
      }
    }
  ]
}